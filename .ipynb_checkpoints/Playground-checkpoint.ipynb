{
 "cells": [
  {
   "cell_type": "code",
   "execution_count": 14,
   "metadata": {},
   "outputs": [],
   "source": [
    "import requests\n",
    "url = 'http://thecatapi.com/api/images/get'\n",
    "payload = {'format': 'xml', 'results_per_page': '20'}"
   ]
  },
  {
   "cell_type": "code",
   "execution_count": 15,
   "metadata": {},
   "outputs": [],
   "source": [
    "r = requests.get(url, params=payload)"
   ]
  },
  {
   "cell_type": "code",
   "execution_count": 16,
   "metadata": {},
   "outputs": [
    {
     "data": {
      "text/plain": [
       "<Response [200]>"
      ]
     },
     "execution_count": 16,
     "metadata": {},
     "output_type": "execute_result"
    }
   ],
   "source": [
    "r"
   ]
  },
  {
   "cell_type": "code",
   "execution_count": 17,
   "metadata": {},
   "outputs": [
    {
     "name": "stdout",
     "output_type": "stream",
     "text": [
      "http://thecatapi.com/api/images/get?results_per_page=20&format=xml\n"
     ]
    }
   ],
   "source": [
    "print(r.url)"
   ]
  },
  {
   "cell_type": "code",
   "execution_count": 18,
   "metadata": {},
   "outputs": [
    {
     "data": {
      "text/plain": [
       "'text/xml'"
      ]
     },
     "execution_count": 18,
     "metadata": {},
     "output_type": "execute_result"
    }
   ],
   "source": [
    "r.headers['Content-Type']"
   ]
  },
  {
   "cell_type": "code",
   "execution_count": 19,
   "metadata": {},
   "outputs": [
    {
     "data": {
      "text/plain": [
       "u'<?xml version=\"1.0\"?>\\n<response>\\n  <data>\\n    <images>\\n      <image>\\n        <url>http://25.media.tumblr.com/tumblr_lvrrryfQcX1qzbrjbo1_500.jpg</url>\\n        <id>MTk0MzQ2Mw</id>\\n        <source_url>http://thecatapi.com/?id=MTk0MzQ2Mw</source_url>\\n      </image>\\n      <image>\\n        <url>http://25.media.tumblr.com/tumblr_ll314kDH191qjahcpo1_1280.jpg</url>\\n        <id>60l</id>\\n        <source_url>http://thecatapi.com/?id=60l</source_url>\\n      </image>\\n      <image>\\n        <url>http://25.media.tumblr.com/tumblr_m3sv9hTDCH1ru0uf1o1_500.jpg</url>\\n        <id>apf</id>\\n        <source_url>http://thecatapi.com/?id=apf</source_url>\\n      </image>\\n      <image>\\n        <url>http://25.media.tumblr.com/tumblr_m2w82bfhs41r73wdao1_500.jpg</url>\\n        <id>7qf</id>\\n        <source_url>http://thecatapi.com/?id=7qf</source_url>\\n      </image>\\n      <image>\\n        <url>http://25.media.tumblr.com/tumblr_lo4o19JmR61qiltqco1_500.gif</url>\\n        <id>7fj</id>\\n        <source_url>http://thecatapi.com/?id=7fj</source_url>\\n      </image>\\n      <image>\\n        <url>http://25.media.tumblr.com/tumblr_luodjzJ2ke1r6z4awo1_1280.jpg</url>\\n        <id>c6n</id>\\n        <source_url>http://thecatapi.com/?id=c6n</source_url>\\n      </image>\\n      <image>\\n        <url>http://24.media.tumblr.com/tumblr_ly18ns9abn1rnbil7o1_500.jpg</url>\\n        <id>90v</id>\\n        <source_url>http://thecatapi.com/?id=90v</source_url>\\n      </image>\\n      <image>\\n        <url>http://25.media.tumblr.com/tumblr_lxoctpndCY1qb2081o1_1280.jpg</url>\\n        <id>9tv</id>\\n        <source_url>http://thecatapi.com/?id=9tv</source_url>\\n      </image>\\n      <image>\\n        <url>http://25.media.tumblr.com/tumblr_mbt2tzisfZ1qznh2ao1_1280.jpg</url>\\n        <id>MTU2ODYyNQ</id>\\n        <source_url>http://thecatapi.com/?id=MTU2ODYyNQ</source_url>\\n      </image>\\n      <image>\\n        <url>http://24.media.tumblr.com/tumblr_lrw204wV4w1qejbiro1_500.jpg</url>\\n        <id>51l</id>\\n        <source_url>http://thecatapi.com/?id=51l</source_url>\\n      </image>\\n      <image>\\n        <url>http://24.media.tumblr.com/tumblr_m1x684QlTP1qzkl9go1_1280.jpg</url>\\n        <id>au2</id>\\n        <source_url>http://thecatapi.com/?id=au2</source_url>\\n      </image>\\n      <image>\\n        <url>http://25.media.tumblr.com/tumblr_m37grwRlxp1rqoojko1_400.jpg</url>\\n        <id>aev</id>\\n        <source_url>http://thecatapi.com/?id=aev</source_url>\\n      </image>\\n      <image>\\n        <url>http://25.media.tumblr.com/tumblr_m1i9hkZBow1qzex9io1_1280.jpg</url>\\n        <id>5uu</id>\\n        <source_url>http://thecatapi.com/?id=5uu</source_url>\\n      </image>\\n      <image>\\n        <url>http://25.media.tumblr.com/tumblr_lj0kg1GtTe1qb73ioo1_1280.jpg</url>\\n        <id>522</id>\\n        <source_url>http://thecatapi.com/?id=522</source_url>\\n      </image>\\n      <image>\\n        <url>http://25.media.tumblr.com/tumblr_m2fsg4kdHI1r6b7kmo1_500.jpg</url>\\n        <id>2kg</id>\\n        <source_url>http://thecatapi.com/?id=2kg</source_url>\\n      </image>\\n      <image>\\n        <url>http://24.media.tumblr.com/tumblr_m2wlb7QR4D1qhwmnpo1_1280.jpg</url>\\n        <id>6e9</id>\\n        <source_url>http://thecatapi.com/?id=6e9</source_url>\\n      </image>\\n      <image>\\n        <url>http://25.media.tumblr.com/tumblr_lzvlw0rl4j1qjev1to1_500.jpg</url>\\n        <id>4r3</id>\\n        <source_url>http://thecatapi.com/?id=4r3</source_url>\\n      </image>\\n      <image>\\n        <url>http://25.media.tumblr.com/tumblr_lxazoc4nHu1qbux7jo1_1280.png</url>\\n        <id>6ot</id>\\n        <source_url>http://thecatapi.com/?id=6ot</source_url>\\n      </image>\\n      <image>\\n        <url>http://25.media.tumblr.com/tumblr_m1so087BFQ1qze0hyo1_500.jpg</url>\\n        <id>ab2</id>\\n        <source_url>http://thecatapi.com/?id=ab2</source_url>\\n      </image>\\n      <image>\\n        <url>http://25.media.tumblr.com/tumblr_m3isls8xnU1r73wdao1_250.gif</url>\\n        <id>3r0</id>\\n        <source_url>http://thecatapi.com/?id=3r0</source_url>\\n      </image>\\n    </images>\\n  </data>\\n</response>\\n'"
      ]
     },
     "execution_count": 19,
     "metadata": {},
     "output_type": "execute_result"
    }
   ],
   "source": [
    "r.text"
   ]
  },
  {
   "cell_type": "code",
   "execution_count": 20,
   "metadata": {},
   "outputs": [],
   "source": [
    "import xml.etree.ElementTree as ET"
   ]
  },
  {
   "cell_type": "code",
   "execution_count": 24,
   "metadata": {},
   "outputs": [
    {
     "name": "stdout",
     "output_type": "stream",
     "text": [
      "<Element 'response' at 0x1099c0110>\n"
     ]
    }
   ],
   "source": [
    "root = ET.fromstring(r.text)\n",
    "print(root)"
   ]
  },
  {
   "cell_type": "code",
   "execution_count": 1,
   "metadata": {},
   "outputs": [
    {
     "ename": "NameError",
     "evalue": "name 'root' is not defined",
     "output_type": "error",
     "traceback": [
      "\u001b[0;31m---------------------------------------------------------------------------\u001b[0m",
      "\u001b[0;31mNameError\u001b[0m                                 Traceback (most recent call last)",
      "\u001b[0;32m<ipython-input-1-520a6dde1831>\u001b[0m in \u001b[0;36m<module>\u001b[0;34m()\u001b[0m\n\u001b[0;32m----> 1\u001b[0;31m \u001b[0;32mfor\u001b[0m \u001b[0murl\u001b[0m \u001b[0;32min\u001b[0m \u001b[0mroot\u001b[0m\u001b[0;34m.\u001b[0m\u001b[0miter\u001b[0m\u001b[0;34m(\u001b[0m\u001b[0;34m'url'\u001b[0m\u001b[0;34m)\u001b[0m\u001b[0;34m:\u001b[0m\u001b[0;34m\u001b[0m\u001b[0m\n\u001b[0m\u001b[1;32m      2\u001b[0m     \u001b[0mreq\u001b[0m \u001b[0;34m=\u001b[0m \u001b[0mrequests\u001b[0m\u001b[0;34m.\u001b[0m\u001b[0mget\u001b[0m\u001b[0;34m(\u001b[0m\u001b[0murl\u001b[0m\u001b[0;34m.\u001b[0m\u001b[0mtext\u001b[0m\u001b[0;34m)\u001b[0m\u001b[0;34m\u001b[0m\u001b[0m\n\u001b[1;32m      3\u001b[0m     \u001b[0;32mprint\u001b[0m\u001b[0;34m(\u001b[0m\u001b[0mreq\u001b[0m\u001b[0;34m)\u001b[0m\u001b[0;34m\u001b[0m\u001b[0m\n",
      "\u001b[0;31mNameError\u001b[0m: name 'root' is not defined"
     ]
    }
   ],
   "source": [
    "for url in root.iter('url'):\n",
    "    req = requests.get(url.text)\n",
    "    print(req)"
   ]
  },
  {
   "cell_type": "code",
   "execution_count": null,
   "metadata": {},
   "outputs": [],
   "source": []
  }
 ],
 "metadata": {
  "kernelspec": {
   "display_name": "Python 2",
   "language": "python",
   "name": "python2"
  },
  "language_info": {
   "codemirror_mode": {
    "name": "ipython",
    "version": 2
   },
   "file_extension": ".py",
   "mimetype": "text/x-python",
   "name": "python",
   "nbconvert_exporter": "python",
   "pygments_lexer": "ipython2",
   "version": "2.7.14"
  }
 },
 "nbformat": 4,
 "nbformat_minor": 2
}
